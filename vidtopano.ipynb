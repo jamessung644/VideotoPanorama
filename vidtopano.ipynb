{
 "cells": [
  {
   "cell_type": "code",
   "execution_count": null,
   "metadata": {},
   "outputs": [],
   "source": [
    "# !pip install opencv-python numpy\n"
   ]
  },
  {
   "cell_type": "code",
   "execution_count": 1,
   "metadata": {},
   "outputs": [
    {
     "name": "stderr",
     "output_type": "stream",
     "text": [
      "2023-11-14 16:39:08.366 Python[35994:1620866] WARNING: Secure coding is automatically enabled for restorable state! However, not on all supported macOS versions of this application. Opt-in to secure coding explicitly by implementing NSApplicationDelegate.applicationSupportsSecureRestorableState:.\n"
     ]
    },
    {
     "ename": "KeyboardInterrupt",
     "evalue": "",
     "output_type": "error",
     "traceback": [
      "\u001b[0;31m---------------------------------------------------------------------------\u001b[0m",
      "\u001b[0;31mKeyboardInterrupt\u001b[0m                         Traceback (most recent call last)",
      "\u001b[1;32m/Users/jamessung/Documents/문서 /프로그래밍/jupyter/videotopanorama/vidtopano.ipynb 셀 2\u001b[0m line \u001b[0;36m5\n\u001b[1;32m     <a href='vscode-notebook-cell:/Users/jamessung/Documents/%EB%AC%B8%EC%84%9C%20/%ED%94%84%EB%A1%9C%EA%B7%B8%EB%9E%98%EB%B0%8D/jupyter/videotopanorama/vidtopano.ipynb#W1sZmlsZQ%3D%3D?line=48'>49</a>\u001b[0m cv2\u001b[39m.\u001b[39mimwrite(\u001b[39m'\u001b[39m\u001b[39mpanorama.jpg\u001b[39m\u001b[39m'\u001b[39m, panorama)\n\u001b[1;32m     <a href='vscode-notebook-cell:/Users/jamessung/Documents/%EB%AC%B8%EC%84%9C%20/%ED%94%84%EB%A1%9C%EA%B7%B8%EB%9E%98%EB%B0%8D/jupyter/videotopanorama/vidtopano.ipynb#W1sZmlsZQ%3D%3D?line=49'>50</a>\u001b[0m cv2\u001b[39m.\u001b[39mimshow(\u001b[39m'\u001b[39m\u001b[39mPanorama\u001b[39m\u001b[39m'\u001b[39m, panorama)\n\u001b[0;32m---> <a href='vscode-notebook-cell:/Users/jamessung/Documents/%EB%AC%B8%EC%84%9C%20/%ED%94%84%EB%A1%9C%EA%B7%B8%EB%9E%98%EB%B0%8D/jupyter/videotopanorama/vidtopano.ipynb#W1sZmlsZQ%3D%3D?line=50'>51</a>\u001b[0m cv2\u001b[39m.\u001b[39;49mwaitKey(\u001b[39m0\u001b[39;49m)\n\u001b[1;32m     <a href='vscode-notebook-cell:/Users/jamessung/Documents/%EB%AC%B8%EC%84%9C%20/%ED%94%84%EB%A1%9C%EA%B7%B8%EB%9E%98%EB%B0%8D/jupyter/videotopanorama/vidtopano.ipynb#W1sZmlsZQ%3D%3D?line=51'>52</a>\u001b[0m cv2\u001b[39m.\u001b[39mdestroyAllWindows()\n",
      "\u001b[0;31mKeyboardInterrupt\u001b[0m: "
     ]
    },
    {
     "ename": "",
     "evalue": "",
     "output_type": "error",
     "traceback": [
      "\u001b[1;31m현재 셀 또는 이전 셀에서 코드를 실행하는 동안 Kernel이 충돌했습니다. 셀의 코드를 검토하여 오류의 가능한 원인을 식별하세요. 자세한 내용을 보려면 <a href='https://aka.ms/vscodeJupyterKernelCrash'> 여기 </a> 를 클릭하세요. 자세한 내용은 Jupyter <a href='command:jupyter.viewOutput'>로그</a>를 참조하세요."
     ]
    }
   ],
   "source": [
    "import cv2\n",
    "import numpy as np\n",
    "\n",
    "def extract_frames(video_path, skip_frames=60):\n",
    "    \"\"\"비디오에서 프레임을 추출하는 함수입니다.\"\"\"\n",
    "    cap = cv2.VideoCapture(video_path)\n",
    "    frames = []\n",
    "    frame_count = 0\n",
    "\n",
    "    while True:\n",
    "        ret, frame = cap.read()\n",
    "        if not ret:\n",
    "            break\n",
    "\n",
    "        if frame_count % skip_frames == 0:\n",
    "            frames.append(frame)\n",
    "\n",
    "        frame_count += 1\n",
    "\n",
    "    cap.release()\n",
    "    return frames\n",
    "\n",
    "def create_panorama(frames):\n",
    "    \"\"\"리스트로 받은 프레임들을 사용해 파노라마를 생성하는 함수입니다.\"\"\"\n",
    "    stitcher = cv2.Stitcher_create(cv2.Stitcher_PANORAMA)  # PANORAMA 모드를 사용\n",
    "\n",
    "    status, panorama = stitcher.stitch(frames)\n",
    "\n",
    "    if status != cv2.Stitcher_OK:\n",
    "        print(f\"스티칭 실패, 에러 코드: {status}\")\n",
    "        return None\n",
    "\n",
    "    return panorama\n",
    "\n",
    "# 비디오 파일 경로 설정\n",
    "video_path = 'drone.mp4'  # 여기에 비디오 파일 경로를 입력하세요\n",
    "\n",
    "# 비디오에서 프레임 추출\n",
    "frames = extract_frames(video_path)\n",
    "\n",
    "# 파노라마에 사용할 프레임 선택\n",
    "selected_frames = frames[::1]  # 필요에 따라 조정하세요\n",
    "\n",
    "# 파노라마 생성\n",
    "panorama = create_panorama(selected_frames)\n",
    "\n",
    "if panorama is not None:\n",
    "    # 파노라마 저장 또는 표시\n",
    "    cv2.imwrite('panorama.jpg', panorama)\n",
    "    cv2.imshow('Panorama', panorama)\n",
    "    cv2.waitKey(0)\n",
    "    cv2.destroyAllWindows()\n"
   ]
  }
 ],
 "metadata": {
  "kernelspec": {
   "display_name": "Python 3",
   "language": "python",
   "name": "python3"
  },
  "language_info": {
   "codemirror_mode": {
    "name": "ipython",
    "version": 3
   },
   "file_extension": ".py",
   "mimetype": "text/x-python",
   "name": "python",
   "nbconvert_exporter": "python",
   "pygments_lexer": "ipython3",
   "version": "3.9.6"
  }
 },
 "nbformat": 4,
 "nbformat_minor": 2
}
